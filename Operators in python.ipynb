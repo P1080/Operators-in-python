{
 "cells": [
  {
   "cell_type": "markdown",
   "id": "283bf148",
   "metadata": {},
   "source": [
    "# Akash patil"
   ]
  },
  {
   "cell_type": "markdown",
   "id": "ce5cc2a3",
   "metadata": {},
   "source": [
    "## Operators in python"
   ]
  },
  {
   "cell_type": "markdown",
   "id": "d6ca7651",
   "metadata": {},
   "source": [
    "### 1)arithmetic operators"
   ]
  },
  {
   "cell_type": "code",
   "execution_count": null,
   "id": "7ba8b522",
   "metadata": {},
   "outputs": [],
   "source": [
    "# Addition (+)\n",
    "# Subtraction (-)\n",
    "# Multiplication (*)\n",
    "# Division (/)\n",
    "# Modulo (%), which returns the remainder of the division\n",
    "# diviser (//)"
   ]
  },
  {
   "cell_type": "code",
   "execution_count": 1,
   "id": "158b6bb4",
   "metadata": {},
   "outputs": [],
   "source": [
    "a=6\n",
    "b=8"
   ]
  },
  {
   "cell_type": "code",
   "execution_count": 2,
   "id": "1b628aed",
   "metadata": {},
   "outputs": [
    {
     "data": {
      "text/plain": [
       "14"
      ]
     },
     "execution_count": 2,
     "metadata": {},
     "output_type": "execute_result"
    }
   ],
   "source": [
    "a+b"
   ]
  },
  {
   "cell_type": "code",
   "execution_count": 3,
   "id": "0b1dc63a",
   "metadata": {},
   "outputs": [
    {
     "data": {
      "text/plain": [
       "48"
      ]
     },
     "execution_count": 3,
     "metadata": {},
     "output_type": "execute_result"
    }
   ],
   "source": [
    "a*b"
   ]
  },
  {
   "cell_type": "code",
   "execution_count": 4,
   "id": "acdba849",
   "metadata": {},
   "outputs": [
    {
     "data": {
      "text/plain": [
       "2"
      ]
     },
     "execution_count": 4,
     "metadata": {},
     "output_type": "execute_result"
    }
   ],
   "source": [
    "b-a"
   ]
  },
  {
   "cell_type": "code",
   "execution_count": 5,
   "id": "331b79ac",
   "metadata": {},
   "outputs": [
    {
     "data": {
      "text/plain": [
       "1.3333333333333333"
      ]
     },
     "execution_count": 5,
     "metadata": {},
     "output_type": "execute_result"
    }
   ],
   "source": [
    "b/a"
   ]
  },
  {
   "cell_type": "code",
   "execution_count": 7,
   "id": "421d2b09",
   "metadata": {},
   "outputs": [
    {
     "data": {
      "text/plain": [
       "2"
      ]
     },
     "execution_count": 7,
     "metadata": {},
     "output_type": "execute_result"
    }
   ],
   "source": [
    "b%a"
   ]
  },
  {
   "cell_type": "code",
   "execution_count": 8,
   "id": "1a716e14",
   "metadata": {},
   "outputs": [
    {
     "data": {
      "text/plain": [
       "1"
      ]
     },
     "execution_count": 8,
     "metadata": {},
     "output_type": "execute_result"
    }
   ],
   "source": [
    "b//a"
   ]
  },
  {
   "cell_type": "markdown",
   "id": "75a82c4f",
   "metadata": {},
   "source": [
    "### 2) comparison operator"
   ]
  },
  {
   "cell_type": "code",
   "execution_count": 10,
   "id": "acb0b2a5",
   "metadata": {},
   "outputs": [
    {
     "data": {
      "text/plain": [
       "True"
      ]
     },
     "execution_count": 10,
     "metadata": {},
     "output_type": "execute_result"
    }
   ],
   "source": [
    "# Equal to (==): \n",
    "x = 5\n",
    "y = 5\n",
    "x == y"
   ]
  },
  {
   "cell_type": "code",
   "execution_count": 13,
   "id": "27f2f992",
   "metadata": {},
   "outputs": [
    {
     "data": {
      "text/plain": [
       "False"
      ]
     },
     "execution_count": 13,
     "metadata": {},
     "output_type": "execute_result"
    }
   ],
   "source": [
    "# Not equal to (!=)\n",
    "x = 5\n",
    "y = 5\n",
    "x != y"
   ]
  },
  {
   "cell_type": "code",
   "execution_count": 14,
   "id": "73c09195",
   "metadata": {},
   "outputs": [
    {
     "data": {
      "text/plain": [
       "True"
      ]
     },
     "execution_count": 14,
     "metadata": {},
     "output_type": "execute_result"
    }
   ],
   "source": [
    "# Greater than (>)\n",
    "x = 5\n",
    "y = 4 \n",
    "x > y"
   ]
  },
  {
   "cell_type": "code",
   "execution_count": 16,
   "id": "4bfbea67",
   "metadata": {},
   "outputs": [
    {
     "data": {
      "text/plain": [
       "False"
      ]
     },
     "execution_count": 16,
     "metadata": {},
     "output_type": "execute_result"
    }
   ],
   "source": [
    "# Less than (<)\n",
    "x = 5\n",
    "y = 4\n",
    "x < y"
   ]
  },
  {
   "cell_type": "code",
   "execution_count": 17,
   "id": "42218f01",
   "metadata": {},
   "outputs": [
    {
     "data": {
      "text/plain": [
       "True"
      ]
     },
     "execution_count": 17,
     "metadata": {},
     "output_type": "execute_result"
    }
   ],
   "source": [
    "# Greater than or equal to (>=)\n",
    "x = 5\n",
    "y = 5\n",
    "x >= y"
   ]
  },
  {
   "cell_type": "code",
   "execution_count": 20,
   "id": "75aa6ba7",
   "metadata": {},
   "outputs": [
    {
     "data": {
      "text/plain": [
       "False"
      ]
     },
     "execution_count": 20,
     "metadata": {},
     "output_type": "execute_result"
    }
   ],
   "source": [
    "# Less than or equal to (<=)\n",
    "x = 5\n",
    "y = 4\n",
    "x <= y"
   ]
  },
  {
   "cell_type": "markdown",
   "id": "8de37d9b",
   "metadata": {},
   "source": [
    "### 3) Logical Operators "
   ]
  },
  {
   "cell_type": "code",
   "execution_count": 24,
   "id": "701c8bb0",
   "metadata": {},
   "outputs": [
    {
     "data": {
      "text/plain": [
       "False"
      ]
     },
     "execution_count": 24,
     "metadata": {},
     "output_type": "execute_result"
    }
   ],
   "source": [
    "# And, Returns True if both statements are true\n",
    "x=8\n",
    "\n",
    "x < 5 and x < 10"
   ]
  },
  {
   "cell_type": "code",
   "execution_count": 25,
   "id": "746f7766",
   "metadata": {},
   "outputs": [
    {
     "data": {
      "text/plain": [
       "True"
      ]
     },
     "execution_count": 25,
     "metadata": {},
     "output_type": "execute_result"
    }
   ],
   "source": [
    "# or,   Returns True if one of the statements is true\n",
    "x=9\n",
    "x > 5 or x < 4"
   ]
  },
  {
   "cell_type": "code",
   "execution_count": 30,
   "id": "dc9e0cef",
   "metadata": {},
   "outputs": [
    {
     "data": {
      "text/plain": [
       "False"
      ]
     },
     "execution_count": 30,
     "metadata": {},
     "output_type": "execute_result"
    }
   ],
   "source": [
    "#not,  Reverse the result, returns False if the result is true\n",
    "x=4\n",
    "not(x < 5 and x < 10)"
   ]
  },
  {
   "cell_type": "markdown",
   "id": "a3cc0313",
   "metadata": {},
   "source": [
    "### 4) Identity operators"
   ]
  },
  {
   "cell_type": "code",
   "execution_count": 33,
   "id": "63b6e514",
   "metadata": {},
   "outputs": [
    {
     "data": {
      "text/plain": [
       "True"
      ]
     },
     "execution_count": 33,
     "metadata": {},
     "output_type": "execute_result"
    }
   ],
   "source": [
    "#is,  Returns true if both variables are the same object \n",
    "x=8\n",
    "y=8\n",
    "x==y\n",
    "#x is y"
   ]
  },
  {
   "cell_type": "code",
   "execution_count": 34,
   "id": "042a80ca",
   "metadata": {},
   "outputs": [
    {
     "data": {
      "text/plain": [
       "False"
      ]
     },
     "execution_count": 34,
     "metadata": {},
     "output_type": "execute_result"
    }
   ],
   "source": [
    "#is not,  Returns true if both variables are not the same object \n",
    "x=8\n",
    "y=8\n",
    "x!=y\n",
    "#x is not y"
   ]
  },
  {
   "cell_type": "markdown",
   "id": "3357bb04",
   "metadata": {},
   "source": [
    "### 5) Membership Operators"
   ]
  },
  {
   "cell_type": "code",
   "execution_count": 36,
   "id": "67d44793",
   "metadata": {},
   "outputs": [],
   "source": [
    "z=[1,2,3,4,5,6,7,8,9]"
   ]
  },
  {
   "cell_type": "code",
   "execution_count": 37,
   "id": "093fff0c",
   "metadata": {},
   "outputs": [
    {
     "data": {
      "text/plain": [
       "True"
      ]
     },
     "execution_count": 37,
     "metadata": {},
     "output_type": "execute_result"
    }
   ],
   "source": [
    "# in,   True if a sequence with the specified value is present in the object\n",
    "5 in z"
   ]
  },
  {
   "cell_type": "code",
   "execution_count": 38,
   "id": "7bd3f496",
   "metadata": {},
   "outputs": [
    {
     "data": {
      "text/plain": [
       "False"
      ]
     },
     "execution_count": 38,
     "metadata": {},
     "output_type": "execute_result"
    }
   ],
   "source": [
    "# not in, True if a sequence with the specified value is not present in the object\n",
    "5 not in z"
   ]
  },
  {
   "cell_type": "markdown",
   "id": "b3c03770",
   "metadata": {},
   "source": [
    "## thank you"
   ]
  }
 ],
 "metadata": {
  "kernelspec": {
   "display_name": "Python 3 (ipykernel)",
   "language": "python",
   "name": "python3"
  },
  "language_info": {
   "codemirror_mode": {
    "name": "ipython",
    "version": 3
   },
   "file_extension": ".py",
   "mimetype": "text/x-python",
   "name": "python",
   "nbconvert_exporter": "python",
   "pygments_lexer": "ipython3",
   "version": "3.9.13"
  }
 },
 "nbformat": 4,
 "nbformat_minor": 5
}
